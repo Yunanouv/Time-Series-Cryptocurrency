{
  "nbformat": 4,
  "nbformat_minor": 0,
  "metadata": {
    "colab": {
      "provenance": []
    },
    "kernelspec": {
      "name": "python3",
      "display_name": "Python 3"
    },
    "language_info": {
      "name": "python"
    }
  },
  "cells": [
    {
      "cell_type": "markdown",
      "metadata": {
        "id": "7qsbRNfV2J7b"
      },
      "source": [
        "**Time Series Cryptocurrency**"
      ]
    },
    {
      "cell_type": "code",
      "metadata": {
        "colab": {
          "base_uri": "https://localhost:8080/",
          "height": 351
        },
        "id": "jq571BAhmgd0",
        "outputId": "f12e5f50-7980-4a4b-9c25-8ddd5eea44d5"
      },
      "source": [
        "from google.colab import drive\n",
        "drive.mount('/content/drive')"
      ],
      "execution_count": null,
      "outputs": [
        {
          "output_type": "error",
          "ename": "MessageError",
          "evalue": "ignored",
          "traceback": [
            "\u001b[0;31m---------------------------------------------------------------------------\u001b[0m",
            "\u001b[0;31mMessageError\u001b[0m                              Traceback (most recent call last)",
            "\u001b[0;32m<ipython-input-1-d5df0069828e>\u001b[0m in \u001b[0;36m<cell line: 2>\u001b[0;34m()\u001b[0m\n\u001b[1;32m      1\u001b[0m \u001b[0;32mfrom\u001b[0m \u001b[0mgoogle\u001b[0m\u001b[0;34m.\u001b[0m\u001b[0mcolab\u001b[0m \u001b[0;32mimport\u001b[0m \u001b[0mdrive\u001b[0m\u001b[0;34m\u001b[0m\u001b[0;34m\u001b[0m\u001b[0m\n\u001b[0;32m----> 2\u001b[0;31m \u001b[0mdrive\u001b[0m\u001b[0;34m.\u001b[0m\u001b[0mmount\u001b[0m\u001b[0;34m(\u001b[0m\u001b[0;34m'/content/drive'\u001b[0m\u001b[0;34m)\u001b[0m\u001b[0;34m\u001b[0m\u001b[0;34m\u001b[0m\u001b[0m\n\u001b[0m",
            "\u001b[0;32m/usr/local/lib/python3.10/dist-packages/google/colab/drive.py\u001b[0m in \u001b[0;36mmount\u001b[0;34m(mountpoint, force_remount, timeout_ms, readonly)\u001b[0m\n\u001b[1;32m    101\u001b[0m \u001b[0;32mdef\u001b[0m \u001b[0mmount\u001b[0m\u001b[0;34m(\u001b[0m\u001b[0mmountpoint\u001b[0m\u001b[0;34m,\u001b[0m \u001b[0mforce_remount\u001b[0m\u001b[0;34m=\u001b[0m\u001b[0;32mFalse\u001b[0m\u001b[0;34m,\u001b[0m \u001b[0mtimeout_ms\u001b[0m\u001b[0;34m=\u001b[0m\u001b[0;36m120000\u001b[0m\u001b[0;34m,\u001b[0m \u001b[0mreadonly\u001b[0m\u001b[0;34m=\u001b[0m\u001b[0;32mFalse\u001b[0m\u001b[0;34m)\u001b[0m\u001b[0;34m:\u001b[0m\u001b[0;34m\u001b[0m\u001b[0;34m\u001b[0m\u001b[0m\n\u001b[1;32m    102\u001b[0m   \u001b[0;34m\"\"\"Mount your Google Drive at the specified mountpoint path.\"\"\"\u001b[0m\u001b[0;34m\u001b[0m\u001b[0;34m\u001b[0m\u001b[0m\n\u001b[0;32m--> 103\u001b[0;31m   return _mount(\n\u001b[0m\u001b[1;32m    104\u001b[0m       \u001b[0mmountpoint\u001b[0m\u001b[0;34m,\u001b[0m\u001b[0;34m\u001b[0m\u001b[0;34m\u001b[0m\u001b[0m\n\u001b[1;32m    105\u001b[0m       \u001b[0mforce_remount\u001b[0m\u001b[0;34m=\u001b[0m\u001b[0mforce_remount\u001b[0m\u001b[0;34m,\u001b[0m\u001b[0;34m\u001b[0m\u001b[0;34m\u001b[0m\u001b[0m\n",
            "\u001b[0;32m/usr/local/lib/python3.10/dist-packages/google/colab/drive.py\u001b[0m in \u001b[0;36m_mount\u001b[0;34m(mountpoint, force_remount, timeout_ms, ephemeral, readonly)\u001b[0m\n\u001b[1;32m    130\u001b[0m   )\n\u001b[1;32m    131\u001b[0m   \u001b[0;32mif\u001b[0m \u001b[0mephemeral\u001b[0m\u001b[0;34m:\u001b[0m\u001b[0;34m\u001b[0m\u001b[0;34m\u001b[0m\u001b[0m\n\u001b[0;32m--> 132\u001b[0;31m     _message.blocking_request(\n\u001b[0m\u001b[1;32m    133\u001b[0m         \u001b[0;34m'request_auth'\u001b[0m\u001b[0;34m,\u001b[0m \u001b[0mrequest\u001b[0m\u001b[0;34m=\u001b[0m\u001b[0;34m{\u001b[0m\u001b[0;34m'authType'\u001b[0m\u001b[0;34m:\u001b[0m \u001b[0;34m'dfs_ephemeral'\u001b[0m\u001b[0;34m}\u001b[0m\u001b[0;34m,\u001b[0m \u001b[0mtimeout_sec\u001b[0m\u001b[0;34m=\u001b[0m\u001b[0;32mNone\u001b[0m\u001b[0;34m\u001b[0m\u001b[0;34m\u001b[0m\u001b[0m\n\u001b[1;32m    134\u001b[0m     )\n",
            "\u001b[0;32m/usr/local/lib/python3.10/dist-packages/google/colab/_message.py\u001b[0m in \u001b[0;36mblocking_request\u001b[0;34m(request_type, request, timeout_sec, parent)\u001b[0m\n\u001b[1;32m    174\u001b[0m       \u001b[0mrequest_type\u001b[0m\u001b[0;34m,\u001b[0m \u001b[0mrequest\u001b[0m\u001b[0;34m,\u001b[0m \u001b[0mparent\u001b[0m\u001b[0;34m=\u001b[0m\u001b[0mparent\u001b[0m\u001b[0;34m,\u001b[0m \u001b[0mexpect_reply\u001b[0m\u001b[0;34m=\u001b[0m\u001b[0;32mTrue\u001b[0m\u001b[0;34m\u001b[0m\u001b[0;34m\u001b[0m\u001b[0m\n\u001b[1;32m    175\u001b[0m   )\n\u001b[0;32m--> 176\u001b[0;31m   \u001b[0;32mreturn\u001b[0m \u001b[0mread_reply_from_input\u001b[0m\u001b[0;34m(\u001b[0m\u001b[0mrequest_id\u001b[0m\u001b[0;34m,\u001b[0m \u001b[0mtimeout_sec\u001b[0m\u001b[0;34m)\u001b[0m\u001b[0;34m\u001b[0m\u001b[0;34m\u001b[0m\u001b[0m\n\u001b[0m",
            "\u001b[0;32m/usr/local/lib/python3.10/dist-packages/google/colab/_message.py\u001b[0m in \u001b[0;36mread_reply_from_input\u001b[0;34m(message_id, timeout_sec)\u001b[0m\n\u001b[1;32m    101\u001b[0m     ):\n\u001b[1;32m    102\u001b[0m       \u001b[0;32mif\u001b[0m \u001b[0;34m'error'\u001b[0m \u001b[0;32min\u001b[0m \u001b[0mreply\u001b[0m\u001b[0;34m:\u001b[0m\u001b[0;34m\u001b[0m\u001b[0;34m\u001b[0m\u001b[0m\n\u001b[0;32m--> 103\u001b[0;31m         \u001b[0;32mraise\u001b[0m \u001b[0mMessageError\u001b[0m\u001b[0;34m(\u001b[0m\u001b[0mreply\u001b[0m\u001b[0;34m[\u001b[0m\u001b[0;34m'error'\u001b[0m\u001b[0;34m]\u001b[0m\u001b[0;34m)\u001b[0m\u001b[0;34m\u001b[0m\u001b[0;34m\u001b[0m\u001b[0m\n\u001b[0m\u001b[1;32m    104\u001b[0m       \u001b[0;32mreturn\u001b[0m \u001b[0mreply\u001b[0m\u001b[0;34m.\u001b[0m\u001b[0mget\u001b[0m\u001b[0;34m(\u001b[0m\u001b[0;34m'data'\u001b[0m\u001b[0;34m,\u001b[0m \u001b[0;32mNone\u001b[0m\u001b[0;34m)\u001b[0m\u001b[0;34m\u001b[0m\u001b[0;34m\u001b[0m\u001b[0m\n\u001b[1;32m    105\u001b[0m \u001b[0;34m\u001b[0m\u001b[0m\n",
            "\u001b[0;31mMessageError\u001b[0m: Error: credential propagation was unsuccessful"
          ]
        }
      ]
    },
    {
      "cell_type": "code",
      "metadata": {
        "colab": {
          "base_uri": "https://localhost:8080/"
        },
        "id": "y2cDvJaVn2Bo",
        "outputId": "e819d1fa-16e4-45c6-9474-a6ee89bcece7"
      },
      "source": [
        "!unzip \"/content/drive/MyDrive/Dicoding/Sub2-Time Series Cryptocurrency/Time Series Cryptocurrency.zip\""
      ],
      "execution_count": null,
      "outputs": [
        {
          "output_type": "stream",
          "name": "stdout",
          "text": [
            "Archive:  /content/drive/MyDrive/Dicoding/Sub2-Time Series Cryptocurrency/Time Series Cryptocurrency.zip\n",
            "  inflating: gemini_BTCUSD_2020_1min.csv  \n",
            "  inflating: gemini_ETHUSD_2020_1min.csv  \n",
            "  inflating: gemini_LTCUSD_2020_1min.csv  \n"
          ]
        }
      ]
    },
    {
      "cell_type": "code",
      "metadata": {
        "colab": {
          "base_uri": "https://localhost:8080/",
          "height": 423
        },
        "id": "2UWvh2MBoMnR",
        "outputId": "e6eedb2f-7c47-41ac-dcbe-fae642939717"
      },
      "source": [
        "import pandas as pd\n",
        "\n",
        "dataset = pd.read_csv(\"/content/gemini_LTCUSD_2020_1min.csv\")\n",
        "dataset"
      ],
      "execution_count": null,
      "outputs": [
        {
          "output_type": "execute_result",
          "data": {
            "text/html": [
              "<div>\n",
              "<style scoped>\n",
              "    .dataframe tbody tr th:only-of-type {\n",
              "        vertical-align: middle;\n",
              "    }\n",
              "\n",
              "    .dataframe tbody tr th {\n",
              "        vertical-align: top;\n",
              "    }\n",
              "\n",
              "    .dataframe thead th {\n",
              "        text-align: right;\n",
              "    }\n",
              "</style>\n",
              "<table border=\"1\" class=\"dataframe\">\n",
              "  <thead>\n",
              "    <tr style=\"text-align: right;\">\n",
              "      <th></th>\n",
              "      <th>Unix Timestamp</th>\n",
              "      <th>Date</th>\n",
              "      <th>Symbol</th>\n",
              "      <th>Open</th>\n",
              "      <th>High</th>\n",
              "      <th>Low</th>\n",
              "      <th>Close</th>\n",
              "      <th>Volume</th>\n",
              "    </tr>\n",
              "  </thead>\n",
              "  <tbody>\n",
              "    <tr>\n",
              "      <th>0</th>\n",
              "      <td>1.618880e+12</td>\n",
              "      <td>4/20/2021 0:03</td>\n",
              "      <td>LTCUSD</td>\n",
              "      <td>260.05</td>\n",
              "      <td>260.05</td>\n",
              "      <td>259.00</td>\n",
              "      <td>259.00</td>\n",
              "      <td>179.16470</td>\n",
              "    </tr>\n",
              "    <tr>\n",
              "      <th>1</th>\n",
              "      <td>1.618880e+12</td>\n",
              "      <td>4/20/2021 0:02</td>\n",
              "      <td>LTCUSD</td>\n",
              "      <td>262.77</td>\n",
              "      <td>262.86</td>\n",
              "      <td>260.00</td>\n",
              "      <td>260.05</td>\n",
              "      <td>307.77795</td>\n",
              "    </tr>\n",
              "    <tr>\n",
              "      <th>2</th>\n",
              "      <td>1.618880e+12</td>\n",
              "      <td>4/20/2021 0:01</td>\n",
              "      <td>LTCUSD</td>\n",
              "      <td>263.57</td>\n",
              "      <td>264.14</td>\n",
              "      <td>262.77</td>\n",
              "      <td>262.77</td>\n",
              "      <td>11.53982</td>\n",
              "    </tr>\n",
              "    <tr>\n",
              "      <th>3</th>\n",
              "      <td>1.618880e+12</td>\n",
              "      <td>4/20/2021 0:00</td>\n",
              "      <td>LTCUSD</td>\n",
              "      <td>261.32</td>\n",
              "      <td>263.76</td>\n",
              "      <td>261.32</td>\n",
              "      <td>263.57</td>\n",
              "      <td>110.88182</td>\n",
              "    </tr>\n",
              "    <tr>\n",
              "      <th>4</th>\n",
              "      <td>1.618880e+12</td>\n",
              "      <td>4/19/2021 23:59</td>\n",
              "      <td>LTCUSD</td>\n",
              "      <td>261.87</td>\n",
              "      <td>261.87</td>\n",
              "      <td>261.21</td>\n",
              "      <td>261.32</td>\n",
              "      <td>48.58221</td>\n",
              "    </tr>\n",
              "    <tr>\n",
              "      <th>...</th>\n",
              "      <td>...</td>\n",
              "      <td>...</td>\n",
              "      <td>...</td>\n",
              "      <td>...</td>\n",
              "      <td>...</td>\n",
              "      <td>...</td>\n",
              "      <td>...</td>\n",
              "      <td>...</td>\n",
              "    </tr>\n",
              "    <tr>\n",
              "      <th>658006</th>\n",
              "      <td>1.577840e+12</td>\n",
              "      <td>1/1/2020 0:04</td>\n",
              "      <td>LTCUSD</td>\n",
              "      <td>41.26</td>\n",
              "      <td>41.26</td>\n",
              "      <td>41.26</td>\n",
              "      <td>41.26</td>\n",
              "      <td>0.00000</td>\n",
              "    </tr>\n",
              "    <tr>\n",
              "      <th>658007</th>\n",
              "      <td>1.577840e+12</td>\n",
              "      <td>1/1/2020 0:03</td>\n",
              "      <td>LTCUSD</td>\n",
              "      <td>41.26</td>\n",
              "      <td>41.26</td>\n",
              "      <td>41.26</td>\n",
              "      <td>41.26</td>\n",
              "      <td>0.00000</td>\n",
              "    </tr>\n",
              "    <tr>\n",
              "      <th>658008</th>\n",
              "      <td>1.577840e+12</td>\n",
              "      <td>1/1/2020 0:02</td>\n",
              "      <td>LTCUSD</td>\n",
              "      <td>41.26</td>\n",
              "      <td>41.26</td>\n",
              "      <td>41.26</td>\n",
              "      <td>41.26</td>\n",
              "      <td>0.00000</td>\n",
              "    </tr>\n",
              "    <tr>\n",
              "      <th>658009</th>\n",
              "      <td>1.577840e+12</td>\n",
              "      <td>1/1/2020 0:01</td>\n",
              "      <td>LTCUSD</td>\n",
              "      <td>41.26</td>\n",
              "      <td>41.26</td>\n",
              "      <td>41.26</td>\n",
              "      <td>41.26</td>\n",
              "      <td>0.00000</td>\n",
              "    </tr>\n",
              "    <tr>\n",
              "      <th>658010</th>\n",
              "      <td>1.577840e+12</td>\n",
              "      <td>1/1/2020 0:00</td>\n",
              "      <td>LTCUSD</td>\n",
              "      <td>41.26</td>\n",
              "      <td>41.26</td>\n",
              "      <td>41.26</td>\n",
              "      <td>41.26</td>\n",
              "      <td>0.00000</td>\n",
              "    </tr>\n",
              "  </tbody>\n",
              "</table>\n",
              "<p>658011 rows × 8 columns</p>\n",
              "</div>"
            ],
            "text/plain": [
              "        Unix Timestamp             Date  Symbol  ...     Low   Close     Volume\n",
              "0         1.618880e+12   4/20/2021 0:03  LTCUSD  ...  259.00  259.00  179.16470\n",
              "1         1.618880e+12   4/20/2021 0:02  LTCUSD  ...  260.00  260.05  307.77795\n",
              "2         1.618880e+12   4/20/2021 0:01  LTCUSD  ...  262.77  262.77   11.53982\n",
              "3         1.618880e+12   4/20/2021 0:00  LTCUSD  ...  261.32  263.57  110.88182\n",
              "4         1.618880e+12  4/19/2021 23:59  LTCUSD  ...  261.21  261.32   48.58221\n",
              "...                ...              ...     ...  ...     ...     ...        ...\n",
              "658006    1.577840e+12    1/1/2020 0:04  LTCUSD  ...   41.26   41.26    0.00000\n",
              "658007    1.577840e+12    1/1/2020 0:03  LTCUSD  ...   41.26   41.26    0.00000\n",
              "658008    1.577840e+12    1/1/2020 0:02  LTCUSD  ...   41.26   41.26    0.00000\n",
              "658009    1.577840e+12    1/1/2020 0:01  LTCUSD  ...   41.26   41.26    0.00000\n",
              "658010    1.577840e+12    1/1/2020 0:00  LTCUSD  ...   41.26   41.26    0.00000\n",
              "\n",
              "[658011 rows x 8 columns]"
            ]
          },
          "metadata": {},
          "execution_count": 3
        }
      ]
    },
    {
      "cell_type": "code",
      "metadata": {
        "colab": {
          "base_uri": "https://localhost:8080/"
        },
        "id": "jSsXboMMsmE7",
        "outputId": "2dbfd5ac-12cd-4be2-bced-2bd006b33aa4"
      },
      "source": [
        "dataset.isnull().sum()"
      ],
      "execution_count": null,
      "outputs": [
        {
          "output_type": "execute_result",
          "data": {
            "text/plain": [
              "Unix Timestamp    0\n",
              "Date              0\n",
              "Symbol            0\n",
              "Open              0\n",
              "High              0\n",
              "Low               0\n",
              "Close             0\n",
              "Volume            0\n",
              "dtype: int64"
            ]
          },
          "metadata": {},
          "execution_count": 4
        }
      ]
    },
    {
      "cell_type": "code",
      "metadata": {
        "id": "mU0-7PWG0U62"
      },
      "source": [
        "import numpy as np\n",
        "import tensorflow as tf\n",
        "from sklearn.model_selection import train_test_split\n",
        "from sklearn.preprocessing import MinMaxScaler\n",
        "\n",
        "def windowed_dataset(series, window_size, batch_size, shuffle_buffer):\n",
        "    series = tf.expand_dims(series, axis=-1)\n",
        "    ds = tf.data.Dataset.from_tensor_slices(series)\n",
        "    ds = ds.window(window_size + 1, shift=1, drop_remainder=True)\n",
        "    ds = ds.flat_map(lambda w: w.batch(window_size + 1))\n",
        "    if shuffle_buffer > 0:\n",
        "        ds = ds.shuffle(shuffle_buffer)\n",
        "    ds = ds.map(lambda w: (w[:-1], w[-1:]))\n",
        "    return ds.batch(batch_size).prefetch(1)\n"
      ],
      "execution_count": null,
      "outputs": []
    },
    {
      "cell_type": "code",
      "metadata": {
        "id": "U5pxsepCCHzd"
      },
      "source": [
        "train_set, val_set = train_test_split(dataset.iloc[:, 3:], test_size=0.2, shuffle=False)\n",
        "scaler = MinMaxScaler().fit(train_set)\n",
        "train_set = scaler.transform(train_set)[:, 0]\n",
        "val_set = scaler.transform(val_set)[:, 0]\n",
        "train_set = windowed_dataset(train_set, window_size=64, batch_size=128, shuffle_buffer=1000)\n",
        "val_set = windowed_dataset(val_set, window_size=64, batch_size=128, shuffle_buffer=1000)"
      ],
      "execution_count": null,
      "outputs": []
    },
    {
      "cell_type": "code",
      "metadata": {
        "colab": {
          "base_uri": "https://localhost:8080/"
        },
        "id": "nI1HJCTV5TW2",
        "outputId": "9b062306-1cea-465c-dbf0-d38a0e4ccea2"
      },
      "source": [
        "import tensorflow as tf\n",
        "\n",
        "model = tf.keras.models.Sequential([\n",
        "    tf.keras.layers.LSTM(64, return_sequences=True, input_shape=(64,1)),\n",
        "    tf.keras.layers.LSTM(32),\n",
        "    tf.keras.layers.Dense(32, activation=tf.keras.activations.swish),\n",
        "    tf.keras.layers.Dense(1),\n",
        "])\n",
        "\n",
        "model.compile(\n",
        "    loss=tf.keras.losses.Huber(),\n",
        "    optimizer=tf.keras.optimizers.Adam(1e-4),\n",
        "    metrics=[\"mae\"]\n",
        ")\n",
        "model.summary()"
      ],
      "execution_count": null,
      "outputs": [
        {
          "output_type": "stream",
          "name": "stdout",
          "text": [
            "Model: \"sequential_1\"\n",
            "_________________________________________________________________\n",
            "Layer (type)                 Output Shape              Param #   \n",
            "=================================================================\n",
            "lstm_2 (LSTM)                (None, 64, 64)            16896     \n",
            "_________________________________________________________________\n",
            "lstm_3 (LSTM)                (None, 32)                12416     \n",
            "_________________________________________________________________\n",
            "dense_2 (Dense)              (None, 32)                1056      \n",
            "_________________________________________________________________\n",
            "dense_3 (Dense)              (None, 1)                 33        \n",
            "=================================================================\n",
            "Total params: 30,401\n",
            "Trainable params: 30,401\n",
            "Non-trainable params: 0\n",
            "_________________________________________________________________\n"
          ]
        }
      ]
    },
    {
      "cell_type": "code",
      "metadata": {
        "colab": {
          "base_uri": "https://localhost:8080/"
        },
        "id": "V9u2Bb2IBmG5",
        "outputId": "46bd7e06-4aac-4d85-e2cc-a7aee32403c0"
      },
      "source": [
        "history = model.fit(\n",
        "    train_set,\n",
        "    epochs=10,\n",
        "    validation_data=val_set,\n",
        "    callbacks=[\n",
        "        tf.keras.callbacks.EarlyStopping(\n",
        "            patience=10,\n",
        "            restore_best_weights=True\n",
        "        ),\n",
        "        tf.keras.callbacks.ReduceLROnPlateau(\n",
        "            monitor='val_loss',\n",
        "            patience=5)]\n",
        ")"
      ],
      "execution_count": null,
      "outputs": [
        {
          "output_type": "stream",
          "name": "stdout",
          "text": [
            "Epoch 1/10\n",
            "4113/4113 [==============================] - 366s 88ms/step - loss: 0.0025 - mae: 0.0122 - val_loss: 4.2235e-04 - val_mae: 0.0241\n",
            "Epoch 2/10\n",
            "4113/4113 [==============================] - 365s 89ms/step - loss: 5.7119e-05 - mae: 0.0024 - val_loss: 1.0681e-04 - val_mae: 0.0122\n",
            "Epoch 3/10\n",
            "4113/4113 [==============================] - 368s 89ms/step - loss: 7.3524e-06 - mae: 0.0014 - val_loss: 1.5342e-05 - val_mae: 0.0049\n",
            "Epoch 4/10\n",
            "4113/4113 [==============================] - 369s 90ms/step - loss: 2.8900e-06 - mae: 0.0012 - val_loss: 1.1701e-06 - val_mae: 0.0011\n",
            "Epoch 5/10\n",
            "4113/4113 [==============================] - 367s 89ms/step - loss: 5.5636e-06 - mae: 0.0012 - val_loss: 3.3767e-06 - val_mae: 0.0023\n",
            "Epoch 6/10\n",
            "4113/4113 [==============================] - 367s 89ms/step - loss: 2.2088e-06 - mae: 0.0010 - val_loss: 7.6950e-07 - val_mae: 8.4823e-04\n",
            "Epoch 7/10\n",
            "4113/4113 [==============================] - 367s 89ms/step - loss: 3.1201e-06 - mae: 0.0011 - val_loss: 6.8496e-07 - val_mae: 9.0813e-04\n",
            "Epoch 8/10\n",
            "4113/4113 [==============================] - 369s 90ms/step - loss: 2.1631e-06 - mae: 9.6980e-04 - val_loss: 4.2001e-07 - val_mae: 6.2818e-04\n",
            "Epoch 9/10\n",
            "4113/4113 [==============================] - 370s 90ms/step - loss: 2.2759e-06 - mae: 9.4977e-04 - val_loss: 3.8413e-07 - val_mae: 6.0206e-04\n",
            "Epoch 10/10\n",
            "4113/4113 [==============================] - 370s 90ms/step - loss: 1.5856e-06 - mae: 8.7802e-04 - val_loss: 9.7336e-07 - val_mae: 0.0011\n"
          ]
        }
      ]
    },
    {
      "cell_type": "code",
      "metadata": {
        "colab": {
          "base_uri": "https://localhost:8080/",
          "height": 281
        },
        "id": "HPfRsV6pSaDC",
        "outputId": "00ca5c15-9b02-49ba-8851-c39207fb2708"
      },
      "source": [
        "import matplotlib.pyplot as plt\n",
        "\n",
        "plt.title('Loss')\n",
        "plt.plot(history.history['loss'], label='train_set')\n",
        "plt.plot(history.history['val_loss'], label='val_set')\n",
        "plt.legend()\n",
        "plt.show();"
      ],
      "execution_count": null,
      "outputs": [
        {
          "output_type": "display_data",
          "data": {
            "image/png": "[encoded data removed]",
            "text/plain": [
              "<Figure size 432x288 with 1 Axes>"
            ]
          },
          "metadata": {
            "needs_background": "light"
          }
        }
      ]
    },
    {
      "cell_type": "code",
      "metadata": {
        "colab": {
          "base_uri": "https://localhost:8080/",
          "height": 281
        },
        "id": "nxVS_qozSs09",
        "outputId": "d6971564-5e26-4030-edb4-6f5f62b5689e"
      },
      "source": [
        "plt.title('Mae')\n",
        "plt.plot(history.history['mae'], label='train_set')\n",
        "plt.plot(history.history['val_mae'], label='val_set')\n",
        "plt.legend()\n",
        "plt.show();"
      ],
      "execution_count": null,
      "outputs": [
        {
          "output_type": "display_data",
          "data": {
            "image/png": "[encoded data removed]",
            "text/plain": [
              "<Figure size 432x288 with 1 Axes>"
            ]
          },
          "metadata": {
            "needs_background": "light"
          }
        }
      ]
    }
  ]
}